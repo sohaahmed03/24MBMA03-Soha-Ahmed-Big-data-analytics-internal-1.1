{
 "cells": [
  {
   "cell_type": "code",
   "execution_count": 0,
   "metadata": {
    "application/vnd.databricks.v1+cell": {
     "cellMetadata": {
      "byteLimit": 2048000,
      "rowLimit": 10000
     },
     "inputWidgets": {},
     "nuid": "89835ef3-bd14-48aa-9620-beaa1518e223",
     "showTitle": false,
     "tableResultSettingsMap": {},
     "title": ""
    }
   },
   "outputs": [
    {
     "output_type": "display_data",
     "data": {
      "text/html": [
       "<style scoped>\n",
       "  .table-result-container {\n",
       "    max-height: 300px;\n",
       "    overflow: auto;\n",
       "  }\n",
       "  table, th, td {\n",
       "    border: 1px solid black;\n",
       "    border-collapse: collapse;\n",
       "  }\n",
       "  th, td {\n",
       "    padding: 5px;\n",
       "  }\n",
       "  th {\n",
       "    text-align: left;\n",
       "  }\n",
       "</style><div class='table-result-container'><table class='table-result'><thead style='background-color: white'><tr><th>customer_id</th><th>customer_name</th><th>city</th><th>service_id</th><th>service_name</th><th>booking_date</th><th>booking_time</th><th>duration</th><th>amount_spent</th><th>status</th><th>rating</th></tr></thead><tbody><tr><td>1</td><td>Karen Cooke</td><td>Hyderabad</td><td>1</td><td>Haircut</td><td>2025-05-01</td><td>2025-09-17T11:30:00.000Z</td><td>45</td><td>500</td><td>booked</td><td>4</td></tr><tr><td>2</td><td>Nicole Woods</td><td>Bangalore</td><td>5</td><td>Pedicure</td><td>2025-07-20</td><td>2025-09-17T18:30:00.000Z</td><td>50</td><td>800</td><td>cancelled</td><td>null</td></tr><tr><td>3</td><td>Autumn Evans</td><td>Mumbai</td><td>3</td><td>Massage</td><td>2025-05-20</td><td>2025-09-17T18:00:00.000Z</td><td>90</td><td>2000</td><td>booked</td><td>5</td></tr><tr><td>4</td><td>Kevin Cohen</td><td>Hyderabad</td><td>1</td><td>Haircut</td><td>2025-06-19</td><td>2025-09-17T14:00:00.000Z</td><td>45</td><td>500</td><td>booked</td><td>3</td></tr><tr><td>5</td><td>Kenneth Sims</td><td>Mumbai</td><td>1</td><td>Haircut</td><td>2025-05-15</td><td>2025-09-17T17:30:00.000Z</td><td>45</td><td>500</td><td>cancelled</td><td>null</td></tr><tr><td>6</td><td>Jennifer Lee</td><td>Chennai</td><td>2</td><td>Facial</td><td>2025-03-22</td><td>2025-09-17T15:00:00.000Z</td><td>60</td><td>1200</td><td>booked</td><td>5</td></tr><tr><td>7</td><td>David Parker</td><td>Delhi</td><td>6</td><td>Hair Coloring</td><td>2025-02-10</td><td>2025-09-17T12:30:00.000Z</td><td>120</td><td>3500</td><td>booked</td><td>4</td></tr><tr><td>8</td><td>Laura Scott</td><td>Bangalore</td><td>7</td><td>Spa Therapy</td><td>2025-04-14</td><td>2025-09-17T16:00:00.000Z</td><td>150</td><td>4000</td><td>no-show</td><td>null</td></tr><tr><td>9</td><td>Paul Mitchell</td><td>Hyderabad</td><td>3</td><td>Massage</td><td>2025-05-28</td><td>2025-09-17T13:00:00.000Z</td><td>90</td><td>2000</td><td>booked</td><td>5</td></tr><tr><td>10</td><td>Susan Rogers</td><td>Delhi</td><td>4</td><td>Manicure</td><td>2025-07-07</td><td>2025-09-17T10:00:00.000Z</td><td>40</td><td>700</td><td>booked</td><td>4</td></tr><tr><td>11</td><td>Emily Peterson</td><td>Mumbai</td><td>2</td><td>Facial</td><td>2025-06-11</td><td>2025-09-17T12:30:00.000Z</td><td>60</td><td>1200</td><td>booked</td><td>3</td></tr><tr><td>12</td><td>Michael Russell</td><td>Hyderabad</td><td>1</td><td>Haircut</td><td>2025-08-15</td><td>2025-09-17T15:30:00.000Z</td><td>45</td><td>500</td><td>booked</td><td>4</td></tr><tr><td>13</td><td>Sarah Green</td><td>Bangalore</td><td>5</td><td>Pedicure</td><td>2025-03-19</td><td>2025-09-17T17:00:00.000Z</td><td>50</td><td>800</td><td>booked</td><td>5</td></tr><tr><td>14</td><td>James Adams</td><td>Delhi</td><td>3</td><td>Massage</td><td>2025-06-23</td><td>2025-09-17T11:00:00.000Z</td><td>90</td><td>2000</td><td>cancelled</td><td>null</td></tr><tr><td>15</td><td>Olivia Martinez</td><td>Chennai</td><td>7</td><td>Spa Therapy</td><td>2025-01-12</td><td>2025-09-17T18:00:00.000Z</td><td>150</td><td>4000</td><td>booked</td><td>5</td></tr><tr><td>16</td><td>Daniel Foster</td><td>Mumbai</td><td>6</td><td>Hair Coloring</td><td>2025-02-25</td><td>2025-09-17T10:30:00.000Z</td><td>120</td><td>3500</td><td>booked</td><td>3</td></tr><tr><td>17</td><td>Ashley Turner</td><td>Delhi</td><td>4</td><td>Manicure</td><td>2025-04-30</td><td>2025-09-17T13:30:00.000Z</td><td>40</td><td>700</td><td>booked</td><td>4</td></tr><tr><td>18</td><td>Ryan Cooper</td><td>Bangalore</td><td>2</td><td>Facial</td><td>2025-03-05</td><td>2025-09-17T16:00:00.000Z</td><td>60</td><td>1200</td><td>no-show</td><td>null</td></tr><tr><td>19</td><td>Jessica Gray</td><td>Hyderabad</td><td>1</td><td>Haircut</td><td>2025-05-18</td><td>2025-09-17T12:00:00.000Z</td><td>45</td><td>500</td><td>booked</td><td>5</td></tr><tr><td>20</td><td>Matthew Baker</td><td>Mumbai</td><td>5</td><td>Pedicure</td><td>2025-07-02</td><td>2025-09-17T14:30:00.000Z</td><td>50</td><td>800</td><td>booked</td><td>3</td></tr><tr><td>21</td><td>Linda Hughes</td><td>Chennai</td><td>3</td><td>Massage</td><td>2025-06-08</td><td>2025-09-17T15:00:00.000Z</td><td>90</td><td>2000</td><td>booked</td><td>4</td></tr><tr><td>22</td><td>Christopher Ward</td><td>Bangalore</td><td>7</td><td>Spa Therapy</td><td>2025-05-09</td><td>2025-09-17T11:30:00.000Z</td><td>150</td><td>4000</td><td>booked</td><td>5</td></tr><tr><td>23</td><td>Amy Diaz</td><td>Delhi</td><td>2</td><td>Facial</td><td>2025-03-17</td><td>2025-09-17T17:30:00.000Z</td><td>60</td><td>1200</td><td>cancelled</td><td>null</td></tr><tr><td>24</td><td>Jason Barnes</td><td>Hyderabad</td><td>6</td><td>Hair Coloring</td><td>2025-04-02</td><td>2025-09-17T10:00:00.000Z</td><td>120</td><td>3500</td><td>booked</td><td>4</td></tr><tr><td>25</td><td>Michelle Ross</td><td>Mumbai</td><td>1</td><td>Haircut</td><td>2025-01-28</td><td>2025-09-17T16:30:00.000Z</td><td>45</td><td>500</td><td>booked</td><td>3</td></tr><tr><td>26</td><td>Andrew Long</td><td>Chennai</td><td>4</td><td>Manicure</td><td>2025-06-19</td><td>2025-09-17T13:00:00.000Z</td><td>40</td><td>700</td><td>booked</td><td>5</td></tr><tr><td>27</td><td>Natalie Kelly</td><td>Bangalore</td><td>5</td><td>Pedicure</td><td>2025-07-15</td><td>2025-09-17T12:30:00.000Z</td><td>50</td><td>800</td><td>booked</td><td>4</td></tr><tr><td>28</td><td>Joshua Howard</td><td>Delhi</td><td>7</td><td>Spa Therapy</td><td>2025-08-10</td><td>2025-09-17T15:30:00.000Z</td><td>150</td><td>4000</td><td>no-show</td><td>null</td></tr><tr><td>29</td><td>Megan Murphy</td><td>Hyderabad</td><td>3</td><td>Massage</td><td>2025-02-14</td><td>2025-09-17T14:00:00.000Z</td><td>90</td><td>2000</td><td>booked</td><td>5</td></tr><tr><td>30</td><td>Patrick Reed</td><td>Mumbai</td><td>2</td><td>Facial</td><td>2025-03-21</td><td>2025-09-17T11:00:00.000Z</td><td>60</td><td>1200</td><td>booked</td><td>2</td></tr><tr><td>31</td><td>Victoria Perry</td><td>Chennai</td><td>6</td><td>Hair Coloring</td><td>2025-05-11</td><td>2025-09-17T17:30:00.000Z</td><td>120</td><td>3500</td><td>booked</td><td>4</td></tr><tr><td>32</td><td>George Bell</td><td>Delhi</td><td>1</td><td>Haircut</td><td>2025-07-22</td><td>2025-09-17T10:30:00.000Z</td><td>45</td><td>500</td><td>booked</td><td>5</td></tr><tr><td>33</td><td>Samantha Bailey</td><td>Bangalore</td><td>4</td><td>Manicure</td><td>2025-06-06</td><td>2025-09-17T18:00:00.000Z</td><td>40</td><td>700</td><td>booked</td><td>3</td></tr><tr><td>34</td><td>Tyler James</td><td>Hyderabad</td><td>7</td><td>Spa Therapy</td><td>2025-08-25</td><td>2025-09-17T14:30:00.000Z</td><td>150</td><td>4000</td><td>booked</td><td>4</td></tr><tr><td>35</td><td>Angela Price</td><td>Delhi</td><td>5</td><td>Pedicure</td><td>2025-04-17</td><td>2025-09-17T13:00:00.000Z</td><td>50</td><td>800</td><td>booked</td><td>5</td></tr><tr><td>36</td><td>Brandon Morgan</td><td>Mumbai</td><td>2</td><td>Facial</td><td>2025-02-06</td><td>2025-09-17T16:00:00.000Z</td><td>60</td><td>1200</td><td>cancelled</td><td>null</td></tr><tr><td>37</td><td>Heather Hall</td><td>Chennai</td><td>1</td><td>Haircut</td><td>2025-03-12</td><td>2025-09-17T12:00:00.000Z</td><td>45</td><td>500</td><td>booked</td><td>4</td></tr><tr><td>38</td><td>Justin Sanders</td><td>Bangalore</td><td>3</td><td>Massage</td><td>2025-05-24</td><td>2025-09-17T15:30:00.000Z</td><td>90</td><td>2000</td><td>booked</td><td>5</td></tr><tr><td>39</td><td>Karen Russell</td><td>Delhi</td><td>6</td><td>Hair Coloring</td><td>2025-07-14</td><td>2025-09-17T10:00:00.000Z</td><td>120</td><td>3500</td><td>booked</td><td>3</td></tr><tr><td>40</td><td>Dylan Rivera</td><td>Hyderabad</td><td>4</td><td>Manicure</td><td>2025-01-30</td><td>2025-09-17T11:30:00.000Z</td><td>40</td><td>700</td><td>no-show</td><td>null</td></tr><tr><td>41</td><td>Amber Diaz</td><td>Mumbai</td><td>7</td><td>Spa Therapy</td><td>2025-06-27</td><td>2025-09-17T17:00:00.000Z</td><td>150</td><td>4000</td><td>booked</td><td>5</td></tr><tr><td>42</td><td>Gregory Torres</td><td>Chennai</td><td>1</td><td>Haircut</td><td>2025-04-19</td><td>2025-09-17T14:00:00.000Z</td><td>45</td><td>500</td><td>booked</td><td>3</td></tr><tr><td>43</td><td>Lauren Jenkins</td><td>Bangalore</td><td>5</td><td>Pedicure</td><td>2025-07-29</td><td>2025-09-17T13:30:00.000Z</td><td>50</td><td>800</td><td>booked</td><td>5</td></tr><tr><td>44</td><td>Scott Powell</td><td>Delhi</td><td>3</td><td>Massage</td><td>2025-02-15</td><td>2025-09-17T16:30:00.000Z</td><td>90</td><td>2000</td><td>booked</td><td>4</td></tr><tr><td>45</td><td>Erica Flores</td><td>Hyderabad</td><td>6</td><td>Hair Coloring</td><td>2025-05-05</td><td>2025-09-17T12:00:00.000Z</td><td>120</td><td>3500</td><td>cancelled</td><td>null</td></tr><tr><td>46</td><td>Benjamin Perry</td><td>Mumbai</td><td>2</td><td>Facial</td><td>2025-03-28</td><td>2025-09-17T15:00:00.000Z</td><td>60</td><td>1200</td><td>booked</td><td>4</td></tr><tr><td>47</td><td>Ashley Patterson</td><td>Delhi</td><td>7</td><td>Spa Therapy</td><td>2025-08-01</td><td>2025-09-17T18:30:00.000Z</td><td>150</td><td>4000</td><td>booked</td><td>5</td></tr><tr><td>48</td><td>Richard Griffin</td><td>Bangalore</td><td>4</td><td>Manicure</td><td>2025-06-21</td><td>2025-09-17T10:30:00.000Z</td><td>40</td><td>700</td><td>booked</td><td>3</td></tr><tr><td>49</td><td>Christina Watson</td><td>Chennai</td><td>1</td><td>Haircut</td><td>2025-05-10</td><td>2025-09-17T11:00:00.000Z</td><td>45</td><td>500</td><td>booked</td><td>5</td></tr><tr><td>50</td><td>Mark Kelly</td><td>Hyderabad</td><td>5</td><td>Pedicure</td><td>2025-04-08</td><td>2025-09-17T13:30:00.000Z</td><td>50</td><td>800</td><td>booked</td><td>4</td></tr></tbody></table></div>"
      ]
     },
     "metadata": {
      "application/vnd.databricks.v1+output": {
       "addedWidgets": {},
       "aggData": [],
       "aggError": "",
       "aggOverflow": false,
       "aggSchema": [],
       "aggSeriesLimitReached": false,
       "aggType": "",
       "arguments": {},
       "columnCustomDisplayInfos": {},
       "data": [
        [
         1,
         "Karen Cooke",
         "Hyderabad",
         1,
         "Haircut",
         "2025-05-01",
         "2025-09-17T11:30:00.000Z",
         45,
         500,
         "booked",
         4
        ],
        [
         2,
         "Nicole Woods",
         "Bangalore",
         5,
         "Pedicure",
         "2025-07-20",
         "2025-09-17T18:30:00.000Z",
         50,
         800,
         "cancelled",
         null
        ],
        [
         3,
         "Autumn Evans",
         "Mumbai",
         3,
         "Massage",
         "2025-05-20",
         "2025-09-17T18:00:00.000Z",
         90,
         2000,
         "booked",
         5
        ],
        [
         4,
         "Kevin Cohen",
         "Hyderabad",
         1,
         "Haircut",
         "2025-06-19",
         "2025-09-17T14:00:00.000Z",
         45,
         500,
         "booked",
         3
        ],
        [
         5,
         "Kenneth Sims",
         "Mumbai",
         1,
         "Haircut",
         "2025-05-15",
         "2025-09-17T17:30:00.000Z",
         45,
         500,
         "cancelled",
         null
        ],
        [
         6,
         "Jennifer Lee",
         "Chennai",
         2,
         "Facial",
         "2025-03-22",
         "2025-09-17T15:00:00.000Z",
         60,
         1200,
         "booked",
         5
        ],
        [
         7,
         "David Parker",
         "Delhi",
         6,
         "Hair Coloring",
         "2025-02-10",
         "2025-09-17T12:30:00.000Z",
         120,
         3500,
         "booked",
         4
        ],
        [
         8,
         "Laura Scott",
         "Bangalore",
         7,
         "Spa Therapy",
         "2025-04-14",
         "2025-09-17T16:00:00.000Z",
         150,
         4000,
         "no-show",
         null
        ],
        [
         9,
         "Paul Mitchell",
         "Hyderabad",
         3,
         "Massage",
         "2025-05-28",
         "2025-09-17T13:00:00.000Z",
         90,
         2000,
         "booked",
         5
        ],
        [
         10,
         "Susan Rogers",
         "Delhi",
         4,
         "Manicure",
         "2025-07-07",
         "2025-09-17T10:00:00.000Z",
         40,
         700,
         "booked",
         4
        ],
        [
         11,
         "Emily Peterson",
         "Mumbai",
         2,
         "Facial",
         "2025-06-11",
         "2025-09-17T12:30:00.000Z",
         60,
         1200,
         "booked",
         3
        ],
        [
         12,
         "Michael Russell",
         "Hyderabad",
         1,
         "Haircut",
         "2025-08-15",
         "2025-09-17T15:30:00.000Z",
         45,
         500,
         "booked",
         4
        ],
        [
         13,
         "Sarah Green",
         "Bangalore",
         5,
         "Pedicure",
         "2025-03-19",
         "2025-09-17T17:00:00.000Z",
         50,
         800,
         "booked",
         5
        ],
        [
         14,
         "James Adams",
         "Delhi",
         3,
         "Massage",
         "2025-06-23",
         "2025-09-17T11:00:00.000Z",
         90,
         2000,
         "cancelled",
         null
        ],
        [
         15,
         "Olivia Martinez",
         "Chennai",
         7,
         "Spa Therapy",
         "2025-01-12",
         "2025-09-17T18:00:00.000Z",
         150,
         4000,
         "booked",
         5
        ],
        [
         16,
         "Daniel Foster",
         "Mumbai",
         6,
         "Hair Coloring",
         "2025-02-25",
         "2025-09-17T10:30:00.000Z",
         120,
         3500,
         "booked",
         3
        ],
        [
         17,
         "Ashley Turner",
         "Delhi",
         4,
         "Manicure",
         "2025-04-30",
         "2025-09-17T13:30:00.000Z",
         40,
         700,
         "booked",
         4
        ],
        [
         18,
         "Ryan Cooper",
         "Bangalore",
         2,
         "Facial",
         "2025-03-05",
         "2025-09-17T16:00:00.000Z",
         60,
         1200,
         "no-show",
         null
        ],
        [
         19,
         "Jessica Gray",
         "Hyderabad",
         1,
         "Haircut",
         "2025-05-18",
         "2025-09-17T12:00:00.000Z",
         45,
         500,
         "booked",
         5
        ],
        [
         20,
         "Matthew Baker",
         "Mumbai",
         5,
         "Pedicure",
         "2025-07-02",
         "2025-09-17T14:30:00.000Z",
         50,
         800,
         "booked",
         3
        ],
        [
         21,
         "Linda Hughes",
         "Chennai",
         3,
         "Massage",
         "2025-06-08",
         "2025-09-17T15:00:00.000Z",
         90,
         2000,
         "booked",
         4
        ],
        [
         22,
         "Christopher Ward",
         "Bangalore",
         7,
         "Spa Therapy",
         "2025-05-09",
         "2025-09-17T11:30:00.000Z",
         150,
         4000,
         "booked",
         5
        ],
        [
         23,
         "Amy Diaz",
         "Delhi",
         2,
         "Facial",
         "2025-03-17",
         "2025-09-17T17:30:00.000Z",
         60,
         1200,
         "cancelled",
         null
        ],
        [
         24,
         "Jason Barnes",
         "Hyderabad",
         6,
         "Hair Coloring",
         "2025-04-02",
         "2025-09-17T10:00:00.000Z",
         120,
         3500,
         "booked",
         4
        ],
        [
         25,
         "Michelle Ross",
         "Mumbai",
         1,
         "Haircut",
         "2025-01-28",
         "2025-09-17T16:30:00.000Z",
         45,
         500,
         "booked",
         3
        ],
        [
         26,
         "Andrew Long",
         "Chennai",
         4,
         "Manicure",
         "2025-06-19",
         "2025-09-17T13:00:00.000Z",
         40,
         700,
         "booked",
         5
        ],
        [
         27,
         "Natalie Kelly",
         "Bangalore",
         5,
         "Pedicure",
         "2025-07-15",
         "2025-09-17T12:30:00.000Z",
         50,
         800,
         "booked",
         4
        ],
        [
         28,
         "Joshua Howard",
         "Delhi",
         7,
         "Spa Therapy",
         "2025-08-10",
         "2025-09-17T15:30:00.000Z",
         150,
         4000,
         "no-show",
         null
        ],
        [
         29,
         "Megan Murphy",
         "Hyderabad",
         3,
         "Massage",
         "2025-02-14",
         "2025-09-17T14:00:00.000Z",
         90,
         2000,
         "booked",
         5
        ],
        [
         30,
         "Patrick Reed",
         "Mumbai",
         2,
         "Facial",
         "2025-03-21",
         "2025-09-17T11:00:00.000Z",
         60,
         1200,
         "booked",
         2
        ],
        [
         31,
         "Victoria Perry",
         "Chennai",
         6,
         "Hair Coloring",
         "2025-05-11",
         "2025-09-17T17:30:00.000Z",
         120,
         3500,
         "booked",
         4
        ],
        [
         32,
         "George Bell",
         "Delhi",
         1,
         "Haircut",
         "2025-07-22",
         "2025-09-17T10:30:00.000Z",
         45,
         500,
         "booked",
         5
        ],
        [
         33,
         "Samantha Bailey",
         "Bangalore",
         4,
         "Manicure",
         "2025-06-06",
         "2025-09-17T18:00:00.000Z",
         40,
         700,
         "booked",
         3
        ],
        [
         34,
         "Tyler James",
         "Hyderabad",
         7,
         "Spa Therapy",
         "2025-08-25",
         "2025-09-17T14:30:00.000Z",
         150,
         4000,
         "booked",
         4
        ],
        [
         35,
         "Angela Price",
         "Delhi",
         5,
         "Pedicure",
         "2025-04-17",
         "2025-09-17T13:00:00.000Z",
         50,
         800,
         "booked",
         5
        ],
        [
         36,
         "Brandon Morgan",
         "Mumbai",
         2,
         "Facial",
         "2025-02-06",
         "2025-09-17T16:00:00.000Z",
         60,
         1200,
         "cancelled",
         null
        ],
        [
         37,
         "Heather Hall",
         "Chennai",
         1,
         "Haircut",
         "2025-03-12",
         "2025-09-17T12:00:00.000Z",
         45,
         500,
         "booked",
         4
        ],
        [
         38,
         "Justin Sanders",
         "Bangalore",
         3,
         "Massage",
         "2025-05-24",
         "2025-09-17T15:30:00.000Z",
         90,
         2000,
         "booked",
         5
        ],
        [
         39,
         "Karen Russell",
         "Delhi",
         6,
         "Hair Coloring",
         "2025-07-14",
         "2025-09-17T10:00:00.000Z",
         120,
         3500,
         "booked",
         3
        ],
        [
         40,
         "Dylan Rivera",
         "Hyderabad",
         4,
         "Manicure",
         "2025-01-30",
         "2025-09-17T11:30:00.000Z",
         40,
         700,
         "no-show",
         null
        ],
        [
         41,
         "Amber Diaz",
         "Mumbai",
         7,
         "Spa Therapy",
         "2025-06-27",
         "2025-09-17T17:00:00.000Z",
         150,
         4000,
         "booked",
         5
        ],
        [
         42,
         "Gregory Torres",
         "Chennai",
         1,
         "Haircut",
         "2025-04-19",
         "2025-09-17T14:00:00.000Z",
         45,
         500,
         "booked",
         3
        ],
        [
         43,
         "Lauren Jenkins",
         "Bangalore",
         5,
         "Pedicure",
         "2025-07-29",
         "2025-09-17T13:30:00.000Z",
         50,
         800,
         "booked",
         5
        ],
        [
         44,
         "Scott Powell",
         "Delhi",
         3,
         "Massage",
         "2025-02-15",
         "2025-09-17T16:30:00.000Z",
         90,
         2000,
         "booked",
         4
        ],
        [
         45,
         "Erica Flores",
         "Hyderabad",
         6,
         "Hair Coloring",
         "2025-05-05",
         "2025-09-17T12:00:00.000Z",
         120,
         3500,
         "cancelled",
         null
        ],
        [
         46,
         "Benjamin Perry",
         "Mumbai",
         2,
         "Facial",
         "2025-03-28",
         "2025-09-17T15:00:00.000Z",
         60,
         1200,
         "booked",
         4
        ],
        [
         47,
         "Ashley Patterson",
         "Delhi",
         7,
         "Spa Therapy",
         "2025-08-01",
         "2025-09-17T18:30:00.000Z",
         150,
         4000,
         "booked",
         5
        ],
        [
         48,
         "Richard Griffin",
         "Bangalore",
         4,
         "Manicure",
         "2025-06-21",
         "2025-09-17T10:30:00.000Z",
         40,
         700,
         "booked",
         3
        ],
        [
         49,
         "Christina Watson",
         "Chennai",
         1,
         "Haircut",
         "2025-05-10",
         "2025-09-17T11:00:00.000Z",
         45,
         500,
         "booked",
         5
        ],
        [
         50,
         "Mark Kelly",
         "Hyderabad",
         5,
         "Pedicure",
         "2025-04-08",
         "2025-09-17T13:30:00.000Z",
         50,
         800,
         "booked",
         4
        ]
       ],
       "datasetInfos": [],
       "dbfsResultPath": null,
       "isJsonSchema": true,
       "metadata": {},
       "overflow": false,
       "plotOptions": {
        "customPlotOptions": {},
        "displayType": "table",
        "pivotAggregation": null,
        "pivotColumns": null,
        "xColumns": null,
        "yColumns": null
       },
       "removedWidgets": [],
       "schema": [
        {
         "metadata": "{}",
         "name": "customer_id",
         "type": "\"long\""
        },
        {
         "metadata": "{}",
         "name": "customer_name",
         "type": "\"string\""
        },
        {
         "metadata": "{}",
         "name": "city",
         "type": "\"string\""
        },
        {
         "metadata": "{}",
         "name": "service_id",
         "type": "\"long\""
        },
        {
         "metadata": "{}",
         "name": "service_name",
         "type": "\"string\""
        },
        {
         "metadata": "{\"__detected_date_formats\": \"d-M-yyyy\"}",
         "name": "booking_date",
         "type": "\"date\""
        },
        {
         "metadata": "{}",
         "name": "booking_time",
         "type": "\"timestamp\""
        },
        {
         "metadata": "{}",
         "name": "duration",
         "type": "\"long\""
        },
        {
         "metadata": "{}",
         "name": "amount_spent",
         "type": "\"long\""
        },
        {
         "metadata": "{}",
         "name": "status",
         "type": "\"string\""
        },
        {
         "metadata": "{}",
         "name": "rating",
         "type": "\"long\""
        }
       ],
       "type": "table"
      }
     },
     "output_type": "display_data"
    }
   ],
   "source": [
    "import pyspark.sql.functions as F\n",
    "from pyspark.sql.types import *\n",
    "import matplotlib.pyplot as plt\n",
    "import pandas as pd\n",
    "\n",
    "# Spark SQL\n",
    "df = spark.table(\"workspace.default.salon_spa_raw_data\")\n",
    "\n",
    "display(df.limit(50))\n"
   ]
  },
  {
   "cell_type": "code",
   "execution_count": 0,
   "metadata": {
    "application/vnd.databricks.v1+cell": {
     "cellMetadata": {
      "byteLimit": 2048000,
      "rowLimit": 10000
     },
     "inputWidgets": {},
     "nuid": "dcab2efc-c18d-486f-9ff4-78f2ea995b2c",
     "showTitle": true,
     "tableResultSettingsMap": {},
     "title": "Total revenue per service"
    }
   },
   "outputs": [
    {
     "output_type": "display_data",
     "data": {
      "text/html": [
       "<style scoped>\n",
       "  .table-result-container {\n",
       "    max-height: 300px;\n",
       "    overflow: auto;\n",
       "  }\n",
       "  table, th, td {\n",
       "    border: 1px solid black;\n",
       "    border-collapse: collapse;\n",
       "  }\n",
       "  th, td {\n",
       "    padding: 5px;\n",
       "  }\n",
       "  th {\n",
       "    text-align: left;\n",
       "  }\n",
       "</style><div class='table-result-container'><table class='table-result'><thead style='background-color: white'><tr><th>service_name</th><th>total_revenue</th></tr></thead><tbody><tr><td>Haircut</td><td>4500</td></tr><tr><td>Massage</td><td>12000</td></tr><tr><td>Facial</td><td>4800</td></tr><tr><td>Hair Coloring</td><td>17500</td></tr><tr><td>Manicure</td><td>3500</td></tr><tr><td>Pedicure</td><td>4800</td></tr><tr><td>Spa Therapy</td><td>20000</td></tr></tbody></table></div>"
      ]
     },
     "metadata": {
      "application/vnd.databricks.v1+output": {
       "addedWidgets": {},
       "aggData": [],
       "aggError": "",
       "aggOverflow": false,
       "aggSchema": [],
       "aggSeriesLimitReached": false,
       "aggType": "",
       "arguments": {},
       "columnCustomDisplayInfos": {},
       "data": [
        [
         "Haircut",
         4500
        ],
        [
         "Massage",
         12000
        ],
        [
         "Facial",
         4800
        ],
        [
         "Hair Coloring",
         17500
        ],
        [
         "Manicure",
         3500
        ],
        [
         "Pedicure",
         4800
        ],
        [
         "Spa Therapy",
         20000
        ]
       ],
       "datasetInfos": [],
       "dbfsResultPath": null,
       "isJsonSchema": true,
       "metadata": {},
       "overflow": false,
       "plotOptions": {
        "customPlotOptions": {},
        "displayType": "table",
        "pivotAggregation": null,
        "pivotColumns": null,
        "xColumns": null,
        "yColumns": null
       },
       "removedWidgets": [],
       "schema": [
        {
         "metadata": "{}",
         "name": "service_name",
         "type": "\"string\""
        },
        {
         "metadata": "{}",
         "name": "total_revenue",
         "type": "\"long\""
        }
       ],
       "type": "table"
      }
     },
     "output_type": "display_data"
    },
    {
     "output_type": "display_data",
     "data": {
      "text/plain": [
       "Databricks visualization. Run in Databricks to view."
      ]
     },
     "metadata": {
      "application/vnd.databricks.v1.subcommand+json": {
       "baseErrorDetails": null,
       "bindings": {},
       "collapsed": false,
       "command": "%python\n__backend_agg_display_orig = display\n__backend_agg_dfs = []\ndef __backend_agg_display_new(df):\n    __backend_agg_df_modules = [\"pandas.core.frame\", \"databricks.koalas.frame\", \"pyspark.sql.dataframe\", \"pyspark.pandas.frame\", \"pyspark.sql.connect.dataframe\"]\n    if (type(df).__module__ in __backend_agg_df_modules and type(df).__name__ == 'DataFrame') or isinstance(df, list):\n        __backend_agg_dfs.append(df)\n\ndisplay = __backend_agg_display_new\n\ndef __backend_agg_user_code_fn():\n    import base64\n    exec(base64.standard_b64decode(\"ZnJvbSBweXNwYXJrLnNxbC5mdW5jdGlvbnMgaW1wb3J0IHN1bQoKcmV2ZW51ZV9kZiA9IGRmLmZpbHRlcihkZi5zdGF0dXMgPT0gImJvb2tlZCIpIFwKICAgICAgICAgICAgICAgLmdyb3VwQnkoInNlcnZpY2VfbmFtZSIpIFwKICAgICAgICAgICAgICAgLmFnZyhzdW0oImFtb3VudF9zcGVudCIpLmFsaWFzKCJ0b3RhbF9yZXZlbnVlIikpCgpkaXNwbGF5KHJldmVudWVfZGYp\").decode())\n\ntry:\n    # run user code\n    __backend_agg_user_code_fn()\n\n    #reset display function\n    display = __backend_agg_display_orig\n\n    if len(__backend_agg_dfs) > 0:\n        # create a temp view\n        if type(__backend_agg_dfs[0]).__module__ == \"databricks.koalas.frame\":\n            # koalas dataframe\n            __backend_agg_dfs[0].to_spark().createOrReplaceTempView(\"DatabricksView842576e\")\n        elif type(__backend_agg_dfs[0]).__module__ == \"pandas.core.frame\" or isinstance(__backend_agg_dfs[0], list):\n            # pandas dataframe\n            spark.createDataFrame(__backend_agg_dfs[0]).createOrReplaceTempView(\"DatabricksView842576e\")\n        else:\n            __backend_agg_dfs[0].createOrReplaceTempView(\"DatabricksView842576e\")\n        #run backend agg\n        display(spark.sql(\"\"\"WITH q AS (select * from DatabricksView842576e) SELECT `service_name`,SUM(`total_revenue`) `column_692566b6197` FROM q GROUP BY `service_name`\"\"\"))\n    else:\n        displayHTML(\"dataframe no longer exists. If you're using dataframe.display(), use display(dataframe) instead.\")\n\n\nfinally:\n    spark.sql(\"drop view if exists DatabricksView842576e\")\n    display = __backend_agg_display_orig\n    del __backend_agg_display_new\n    del __backend_agg_display_orig\n    del __backend_agg_dfs\n    del __backend_agg_user_code_fn\n\n",
       "commandTitle": "Visualization 1",
       "commandType": "auto",
       "commandVersion": 0,
       "commentThread": [],
       "commentsVisible": false,
       "contentSha256Hex": null,
       "customPlotOptions": {
        "redashChart": [
         {
          "key": "type",
          "value": "CHART"
         },
         {
          "key": "options",
          "value": {
           "alignYAxesAtZero": true,
           "coefficient": 1,
           "columnConfigurationMap": {
            "x": {
             "column": "service_name",
             "id": "column_692566b6196"
            },
            "y": [
             {
              "column": "total_revenue",
              "id": "column_692566b6197",
              "transform": "SUM"
             }
            ]
           },
           "dateTimeFormat": "DD/MM/YYYY HH:mm",
           "direction": {
            "type": "counterclockwise"
           },
           "error_y": {
            "type": "data",
            "visible": true
           },
           "globalSeriesType": "column",
           "isAggregationOn": true,
           "legend": {
            "traceorder": "normal"
           },
           "missingValuesAsZero": true,
           "numberFormat": "0,0.[00000]",
           "percentFormat": "0[.]00%",
           "series": {
            "error_y": {
             "type": "data",
             "visible": true
            },
            "stacking": null
           },
           "seriesOptions": {
            "column_692566b6197": {
             "color": "#077A9D",
             "name": "total_revenue",
             "yAxis": 0
            }
           },
           "showDataLabels": false,
           "sizemode": "diameter",
           "sortX": true,
           "sortY": true,
           "swappedAxes": true,
           "textFormat": "",
           "useAggregationsUi": true,
           "valuesOptions": {},
           "version": 2,
           "xAxis": {
            "labels": {
             "enabled": true
            },
            "type": "-"
           },
           "yAxis": [
            {
             "type": "-"
            },
            {
             "opposite": true,
             "type": "-"
            }
           ]
          }
         }
        ]
       },
       "datasetPreviewNameToCmdIdMap": {},
       "diffDeletes": [],
       "diffInserts": [],
       "displayType": "redashChart",
       "error": null,
       "errorDetails": null,
       "errorSummary": null,
       "errorTraceType": null,
       "finishTime": 0,
       "globalVars": {},
       "guid": "",
       "height": "auto",
       "hideCommandCode": false,
       "hideCommandResult": false,
       "iPythonMetadata": null,
       "inputWidgets": {},
       "isLockedInExamMode": false,
       "latestAssumeRoleInfo": null,
       "latestUser": "a user",
       "latestUserId": null,
       "listResultMetadata": null,
       "metadata": {},
       "nuid": "f99704af-30bd-410a-8ce0-142784c3f365",
       "origId": 0,
       "parentHierarchy": [],
       "pivotAggregation": null,
       "pivotColumns": null,
       "position": 102.0,
       "resultDbfsErrorMessage": null,
       "resultDbfsStatus": "INLINED_IN_TREE",
       "results": null,
       "showCommandTitle": false,
       "startTime": 0,
       "state": "input",
       "streamStates": {},
       "subcommandOptions": {
        "queryPlan": {
         "groups": [
          {
           "column": "service_name",
           "type": "column"
          }
         ],
         "selects": [
          {
           "column": "service_name",
           "type": "column"
          },
          {
           "alias": "column_692566b6197",
           "args": [
            {
             "column": "total_revenue",
             "type": "column"
            }
           ],
           "function": "SUM",
           "type": "function"
          }
         ]
        }
       },
       "submitTime": 0,
       "subtype": "tableResultSubCmd.visualization",
       "tableResultIndex": 0,
       "tableResultSettingsMap": {},
       "useConsistentColors": false,
       "version": "CommandV1",
       "width": "auto",
       "workflows": [],
       "xColumns": null,
       "yColumns": null
      }
     },
     "output_type": "display_data"
    }
   ],
   "source": [
    "from pyspark.sql.functions import sum\n",
    "\n",
    "revenue_df = df.filter(df.status == \"booked\") \\\n",
    "               .groupBy(\"service_name\") \\\n",
    "               .agg(sum(\"amount_spent\").alias(\"total_revenue\"))\n",
    "\n",
    "display(revenue_df)"
   ]
  },
  {
   "cell_type": "code",
   "execution_count": 0,
   "metadata": {
    "application/vnd.databricks.v1+cell": {
     "cellMetadata": {
      "byteLimit": 2048000,
      "rowLimit": 10000
     },
     "inputWidgets": {},
     "nuid": "fc7f4b66-e1db-4f13-b6ce-48398df24b4c",
     "showTitle": true,
     "tableResultSettingsMap": {},
     "title": "Average service duration by city"
    }
   },
   "outputs": [
    {
     "output_type": "display_data",
     "data": {
      "text/html": [
       "<style scoped>\n",
       "  .table-result-container {\n",
       "    max-height: 300px;\n",
       "    overflow: auto;\n",
       "  }\n",
       "  table, th, td {\n",
       "    border: 1px solid black;\n",
       "    border-collapse: collapse;\n",
       "  }\n",
       "  th, td {\n",
       "    padding: 5px;\n",
       "  }\n",
       "  th {\n",
       "    text-align: left;\n",
       "  }\n",
       "</style><div class='table-result-container'><table class='table-result'><thead style='background-color: white'><tr><th>city</th><th>avg_duration_minutes</th></tr></thead><tbody><tr><td>Hyderabad</td><td>75.55555555555556</td></tr><tr><td>Mumbai</td><td>79.375</td></tr><tr><td>Chennai</td><td>74.375</td></tr><tr><td>Delhi</td><td>81.875</td></tr><tr><td>Bangalore</td><td>67.14285714285714</td></tr></tbody></table></div>"
      ]
     },
     "metadata": {
      "application/vnd.databricks.v1+output": {
       "addedWidgets": {},
       "aggData": [],
       "aggError": "",
       "aggOverflow": false,
       "aggSchema": [],
       "aggSeriesLimitReached": false,
       "aggType": "",
       "arguments": {},
       "columnCustomDisplayInfos": {},
       "data": [
        [
         "Hyderabad",
         75.55555555555556
        ],
        [
         "Mumbai",
         79.375
        ],
        [
         "Chennai",
         74.375
        ],
        [
         "Delhi",
         81.875
        ],
        [
         "Bangalore",
         67.14285714285714
        ]
       ],
       "datasetInfos": [],
       "dbfsResultPath": null,
       "isJsonSchema": true,
       "metadata": {},
       "overflow": false,
       "plotOptions": {
        "customPlotOptions": {},
        "displayType": "table",
        "pivotAggregation": null,
        "pivotColumns": null,
        "xColumns": null,
        "yColumns": null
       },
       "removedWidgets": [],
       "schema": [
        {
         "metadata": "{}",
         "name": "city",
         "type": "\"string\""
        },
        {
         "metadata": "{}",
         "name": "avg_duration_minutes",
         "type": "\"double\""
        }
       ],
       "type": "table"
      }
     },
     "output_type": "display_data"
    },
    {
     "output_type": "display_data",
     "data": {
      "text/plain": [
       "Databricks visualization. Run in Databricks to view."
      ]
     },
     "metadata": {
      "application/vnd.databricks.v1.subcommand+json": {
       "baseErrorDetails": null,
       "bindings": {},
       "collapsed": false,
       "command": "%python\n__backend_agg_display_orig = display\n__backend_agg_dfs = []\ndef __backend_agg_display_new(df):\n    __backend_agg_df_modules = [\"pandas.core.frame\", \"databricks.koalas.frame\", \"pyspark.sql.dataframe\", \"pyspark.pandas.frame\", \"pyspark.sql.connect.dataframe\"]\n    if (type(df).__module__ in __backend_agg_df_modules and type(df).__name__ == 'DataFrame') or isinstance(df, list):\n        __backend_agg_dfs.append(df)\n\ndisplay = __backend_agg_display_new\n\ndef __backend_agg_user_code_fn():\n    import base64\n    exec(base64.standard_b64decode(\"ZnJvbSBweXNwYXJrLnNxbC5mdW5jdGlvbnMgaW1wb3J0IGF2ZwoKYXZnX2R1cmF0aW9uX2RmID0gZGYuZmlsdGVyKGRmLnN0YXR1cyA9PSAiYm9va2VkIikgXAogICAgICAgICAgICAgICAgICAgIC5ncm91cEJ5KCJjaXR5IikgXAogICAgICAgICAgICAgICAgICAgIC5hZ2coYXZnKCJkdXJhdGlvbiIpLmFsaWFzKCJhdmdfZHVyYXRpb25fbWludXRlcyIpKQoKZGlzcGxheShhdmdfZHVyYXRpb25fZGYp\").decode())\n\ntry:\n    # run user code\n    __backend_agg_user_code_fn()\n\n    #reset display function\n    display = __backend_agg_display_orig\n\n    if len(__backend_agg_dfs) > 0:\n        # create a temp view\n        if type(__backend_agg_dfs[0]).__module__ == \"databricks.koalas.frame\":\n            # koalas dataframe\n            __backend_agg_dfs[0].to_spark().createOrReplaceTempView(\"DatabricksView869000b\")\n        elif type(__backend_agg_dfs[0]).__module__ == \"pandas.core.frame\" or isinstance(__backend_agg_dfs[0], list):\n            # pandas dataframe\n            spark.createDataFrame(__backend_agg_dfs[0]).createOrReplaceTempView(\"DatabricksView869000b\")\n        else:\n            __backend_agg_dfs[0].createOrReplaceTempView(\"DatabricksView869000b\")\n        #run backend agg\n        display(spark.sql(\"\"\"WITH q AS (select * from DatabricksView869000b) SELECT `city`,SUM(`avg_duration_minutes`) `column_692566b6200` FROM q GROUP BY `city`\"\"\"))\n    else:\n        displayHTML(\"dataframe no longer exists. If you're using dataframe.display(), use display(dataframe) instead.\")\n\n\nfinally:\n    spark.sql(\"drop view if exists DatabricksView869000b\")\n    display = __backend_agg_display_orig\n    del __backend_agg_display_new\n    del __backend_agg_display_orig\n    del __backend_agg_dfs\n    del __backend_agg_user_code_fn\n\n",
       "commandTitle": "Visualization 1",
       "commandType": "auto",
       "commandVersion": 0,
       "commentThread": [],
       "commentsVisible": false,
       "contentSha256Hex": null,
       "customPlotOptions": {
        "redashChart": [
         {
          "key": "type",
          "value": "CHART"
         },
         {
          "key": "options",
          "value": {
           "alignYAxesAtZero": true,
           "coefficient": 1,
           "columnConfigurationMap": {
            "x": {
             "column": "city",
             "id": "column_692566b6199"
            },
            "y": [
             {
              "column": "avg_duration_minutes",
              "id": "column_692566b6200",
              "transform": "SUM"
             }
            ]
           },
           "dateTimeFormat": "DD/MM/YYYY HH:mm",
           "direction": {
            "type": "counterclockwise"
           },
           "error_y": {
            "type": "data",
            "visible": true
           },
           "globalSeriesType": "pie",
           "legend": {
            "traceorder": "normal"
           },
           "missingValuesAsZero": true,
           "numberFormat": "0,0.[00000]",
           "percentFormat": "0[.]00%",
           "series": {
            "error_y": {
             "type": "data",
             "visible": true
            },
            "stacking": null
           },
           "seriesOptions": {
            "column_692566b6200": {
             "name": "avg_duration_minutes",
             "type": "pie",
             "yAxis": 0
            }
           },
           "showDataLabels": true,
           "sizemode": "diameter",
           "sortX": true,
           "sortY": true,
           "swappedAxes": false,
           "textFormat": "",
           "useAggregationsUi": true,
           "valuesOptions": {},
           "version": 2,
           "xAxis": {
            "labels": {
             "enabled": true
            },
            "type": "-"
           },
           "yAxis": [
            {
             "type": "-"
            },
            {
             "opposite": true,
             "type": "-"
            }
           ]
          }
         }
        ]
       },
       "datasetPreviewNameToCmdIdMap": {},
       "diffDeletes": [],
       "diffInserts": [],
       "displayType": "redashChart",
       "error": null,
       "errorDetails": null,
       "errorSummary": null,
       "errorTraceType": null,
       "finishTime": 0,
       "globalVars": {},
       "guid": "",
       "height": "auto",
       "hideCommandCode": false,
       "hideCommandResult": false,
       "iPythonMetadata": null,
       "inputWidgets": {},
       "isLockedInExamMode": false,
       "latestAssumeRoleInfo": null,
       "latestUser": "a user",
       "latestUserId": null,
       "listResultMetadata": null,
       "metadata": {},
       "nuid": "00f91eb5-7f0a-4899-8fb0-91103862d2a4",
       "origId": 0,
       "parentHierarchy": [],
       "pivotAggregation": null,
       "pivotColumns": null,
       "position": 103.0,
       "resultDbfsErrorMessage": null,
       "resultDbfsStatus": "INLINED_IN_TREE",
       "results": null,
       "showCommandTitle": false,
       "startTime": 0,
       "state": "input",
       "streamStates": {},
       "subcommandOptions": {
        "queryPlan": {
         "groups": [
          {
           "column": "city",
           "type": "column"
          }
         ],
         "selects": [
          {
           "column": "city",
           "type": "column"
          },
          {
           "alias": "column_692566b6200",
           "args": [
            {
             "column": "avg_duration_minutes",
             "type": "column"
            }
           ],
           "function": "SUM",
           "type": "function"
          }
         ]
        }
       },
       "submitTime": 0,
       "subtype": "tableResultSubCmd.visualization",
       "tableResultIndex": 0,
       "tableResultSettingsMap": {},
       "useConsistentColors": false,
       "version": "CommandV1",
       "width": "auto",
       "workflows": [],
       "xColumns": null,
       "yColumns": null
      }
     },
     "output_type": "display_data"
    }
   ],
   "source": [
    "from pyspark.sql.functions import avg\n",
    "\n",
    "avg_duration_df = df.filter(df.status == \"booked\") \\\n",
    "                    .groupBy(\"city\") \\\n",
    "                    .agg(avg(\"duration\").alias(\"avg_duration_minutes\"))\n",
    "\n",
    "display(avg_duration_df)"
   ]
  },
  {
   "cell_type": "code",
   "execution_count": 0,
   "metadata": {
    "application/vnd.databricks.v1+cell": {
     "cellMetadata": {
      "byteLimit": 2048000,
      "rowLimit": 10000
     },
     "inputWidgets": {},
     "nuid": "53d714e0-ad1c-4115-8b2f-17747acab80f",
     "showTitle": true,
     "tableResultSettingsMap": {},
     "title": "Most frequently booked services"
    }
   },
   "outputs": [
    {
     "output_type": "display_data",
     "data": {
      "text/html": [
       "<style scoped>\n",
       "  .table-result-container {\n",
       "    max-height: 300px;\n",
       "    overflow: auto;\n",
       "  }\n",
       "  table, th, td {\n",
       "    border: 1px solid black;\n",
       "    border-collapse: collapse;\n",
       "  }\n",
       "  th, td {\n",
       "    padding: 5px;\n",
       "  }\n",
       "  th {\n",
       "    text-align: left;\n",
       "  }\n",
       "</style><div class='table-result-container'><table class='table-result'><thead style='background-color: white'><tr><th>service_name</th><th>total_bookings</th></tr></thead><tbody><tr><td>Haircut</td><td>9</td></tr><tr><td>Pedicure</td><td>6</td></tr><tr><td>Massage</td><td>6</td></tr><tr><td>Spa Therapy</td><td>5</td></tr><tr><td>Hair Coloring</td><td>5</td></tr><tr><td>Manicure</td><td>5</td></tr><tr><td>Facial</td><td>4</td></tr></tbody></table></div>"
      ]
     },
     "metadata": {
      "application/vnd.databricks.v1+output": {
       "addedWidgets": {},
       "aggData": [],
       "aggError": "",
       "aggOverflow": false,
       "aggSchema": [],
       "aggSeriesLimitReached": false,
       "aggType": "",
       "arguments": {},
       "columnCustomDisplayInfos": {},
       "data": [
        [
         "Haircut",
         9
        ],
        [
         "Pedicure",
         6
        ],
        [
         "Massage",
         6
        ],
        [
         "Spa Therapy",
         5
        ],
        [
         "Hair Coloring",
         5
        ],
        [
         "Manicure",
         5
        ],
        [
         "Facial",
         4
        ]
       ],
       "datasetInfos": [],
       "dbfsResultPath": null,
       "isJsonSchema": true,
       "metadata": {},
       "overflow": false,
       "plotOptions": {
        "customPlotOptions": {},
        "displayType": "table",
        "pivotAggregation": null,
        "pivotColumns": null,
        "xColumns": null,
        "yColumns": null
       },
       "removedWidgets": [],
       "schema": [
        {
         "metadata": "{}",
         "name": "service_name",
         "type": "\"string\""
        },
        {
         "metadata": "{}",
         "name": "total_bookings",
         "type": "\"long\""
        }
       ],
       "type": "table"
      }
     },
     "output_type": "display_data"
    },
    {
     "output_type": "display_data",
     "data": {
      "text/plain": [
       "Databricks visualization. Run in Databricks to view."
      ]
     },
     "metadata": {
      "application/vnd.databricks.v1.subcommand+json": {
       "baseErrorDetails": null,
       "bindings": {},
       "collapsed": false,
       "command": "%python\n__backend_agg_display_orig = display\n__backend_agg_dfs = []\ndef __backend_agg_display_new(df):\n    __backend_agg_df_modules = [\"pandas.core.frame\", \"databricks.koalas.frame\", \"pyspark.sql.dataframe\", \"pyspark.pandas.frame\", \"pyspark.sql.connect.dataframe\"]\n    if (type(df).__module__ in __backend_agg_df_modules and type(df).__name__ == 'DataFrame') or isinstance(df, list):\n        __backend_agg_dfs.append(df)\n\ndisplay = __backend_agg_display_new\n\ndef __backend_agg_user_code_fn():\n    import base64\n    exec(base64.standard_b64decode(\"ZnJvbSBweXNwYXJrLnNxbC5mdW5jdGlvbnMgaW1wb3J0IGNvdW50Cgpwb3B1bGFyX3NlcnZpY2VzX2RmID0gZGYuZmlsdGVyKGRmLnN0YXR1cyA9PSAiYm9va2VkIikgXAogICAgICAgICAgICAgICAgICAgICAgICAuZ3JvdXBCeSgic2VydmljZV9uYW1lIikgXAogICAgICAgICAgICAgICAgICAgICAgICAuYWdnKGNvdW50KCIqIikuYWxpYXMoInRvdGFsX2Jvb2tpbmdzIikpIFwKICAgICAgICAgICAgICAgICAgICAgICAgLm9yZGVyQnkoInRvdGFsX2Jvb2tpbmdzIiwgYXNjZW5kaW5nPUZhbHNlKQoKZGlzcGxheShwb3B1bGFyX3NlcnZpY2VzX2RmKQ==\").decode())\n\ntry:\n    # run user code\n    __backend_agg_user_code_fn()\n\n    #reset display function\n    display = __backend_agg_display_orig\n\n    if len(__backend_agg_dfs) > 0:\n        # create a temp view\n        if type(__backend_agg_dfs[0]).__module__ == \"databricks.koalas.frame\":\n            # koalas dataframe\n            __backend_agg_dfs[0].to_spark().createOrReplaceTempView(\"DatabricksView6b171bb\")\n        elif type(__backend_agg_dfs[0]).__module__ == \"pandas.core.frame\" or isinstance(__backend_agg_dfs[0], list):\n            # pandas dataframe\n            spark.createDataFrame(__backend_agg_dfs[0]).createOrReplaceTempView(\"DatabricksView6b171bb\")\n        else:\n            __backend_agg_dfs[0].createOrReplaceTempView(\"DatabricksView6b171bb\")\n        #run backend agg\n        display(spark.sql(\"\"\"WITH q AS (select * from DatabricksView6b171bb) SELECT `service_name`,SUM(`total_bookings`) `column_692566b6208` FROM q GROUP BY `service_name`\"\"\"))\n    else:\n        displayHTML(\"dataframe no longer exists. If you're using dataframe.display(), use display(dataframe) instead.\")\n\n\nfinally:\n    spark.sql(\"drop view if exists DatabricksView6b171bb\")\n    display = __backend_agg_display_orig\n    del __backend_agg_display_new\n    del __backend_agg_display_orig\n    del __backend_agg_dfs\n    del __backend_agg_user_code_fn\n\n",
       "commandTitle": "Visualization 1",
       "commandType": "auto",
       "commandVersion": 0,
       "commentThread": [],
       "commentsVisible": false,
       "contentSha256Hex": null,
       "customPlotOptions": {
        "redashChart": [
         {
          "key": "type",
          "value": "CHART"
         },
         {
          "key": "options",
          "value": {
           "alignYAxesAtZero": true,
           "coefficient": 1,
           "columnConfigurationMap": {
            "x": {
             "column": "service_name",
             "id": "column_692566b6207"
            },
            "y": [
             {
              "column": "total_bookings",
              "id": "column_692566b6208",
              "transform": "SUM"
             }
            ]
           },
           "dateTimeFormat": "DD/MM/YYYY HH:mm",
           "direction": {
            "type": "counterclockwise"
           },
           "error_y": {
            "type": "data",
            "visible": true
           },
           "globalSeriesType": "column",
           "isAggregationOn": true,
           "legend": {
            "traceorder": "normal"
           },
           "missingValuesAsZero": true,
           "numberFormat": "0,0.[00000]",
           "percentFormat": "0[.]00%",
           "series": {
            "error_y": {
             "type": "data",
             "visible": true
            },
            "stacking": null
           },
           "seriesOptions": {
            "column_692566b6208": {
             "color": "#AB4057",
             "name": "total_bookings",
             "yAxis": 0
            }
           },
           "showDataLabels": false,
           "sizemode": "diameter",
           "sortX": true,
           "sortY": true,
           "swappedAxes": false,
           "textFormat": "",
           "useAggregationsUi": true,
           "valuesOptions": {},
           "version": 2,
           "xAxis": {
            "labels": {
             "enabled": true
            },
            "type": "-"
           },
           "yAxis": [
            {
             "type": "-"
            },
            {
             "opposite": true,
             "type": "-"
            }
           ]
          }
         }
        ]
       },
       "datasetPreviewNameToCmdIdMap": {},
       "diffDeletes": [],
       "diffInserts": [],
       "displayType": "redashChart",
       "error": null,
       "errorDetails": null,
       "errorSummary": null,
       "errorTraceType": null,
       "finishTime": 0,
       "globalVars": {},
       "guid": "",
       "height": "auto",
       "hideCommandCode": false,
       "hideCommandResult": false,
       "iPythonMetadata": null,
       "inputWidgets": {},
       "isLockedInExamMode": false,
       "latestAssumeRoleInfo": null,
       "latestUser": "a user",
       "latestUserId": null,
       "listResultMetadata": null,
       "metadata": {},
       "nuid": "9413d2f1-f0e0-40bc-a8be-e1ff3f917e5d",
       "origId": 0,
       "parentHierarchy": [],
       "pivotAggregation": null,
       "pivotColumns": null,
       "position": 104.0,
       "resultDbfsErrorMessage": null,
       "resultDbfsStatus": "INLINED_IN_TREE",
       "results": null,
       "showCommandTitle": false,
       "startTime": 0,
       "state": "input",
       "streamStates": {},
       "subcommandOptions": {
        "queryPlan": {
         "groups": [
          {
           "column": "service_name",
           "type": "column"
          }
         ],
         "selects": [
          {
           "column": "service_name",
           "type": "column"
          },
          {
           "alias": "column_692566b6208",
           "args": [
            {
             "column": "total_bookings",
             "type": "column"
            }
           ],
           "function": "SUM",
           "type": "function"
          }
         ]
        }
       },
       "submitTime": 0,
       "subtype": "tableResultSubCmd.visualization",
       "tableResultIndex": 0,
       "tableResultSettingsMap": {},
       "useConsistentColors": false,
       "version": "CommandV1",
       "width": "auto",
       "workflows": [],
       "xColumns": null,
       "yColumns": null
      }
     },
     "output_type": "display_data"
    }
   ],
   "source": [
    "from pyspark.sql.functions import count\n",
    "\n",
    "popular_services_df = df.filter(df.status == \"booked\") \\\n",
    "                        .groupBy(\"service_name\") \\\n",
    "                        .agg(count(\"*\").alias(\"total_bookings\")) \\\n",
    "                        .orderBy(\"total_bookings\", ascending=False)\n",
    "\n",
    "display(popular_services_df)"
   ]
  },
  {
   "cell_type": "code",
   "execution_count": 0,
   "metadata": {
    "application/vnd.databricks.v1+cell": {
     "cellMetadata": {
      "byteLimit": 2048000,
      "rowLimit": 10000
     },
     "inputWidgets": {},
     "nuid": "1750c9ac-5012-4996-83f6-5c915eb86c77",
     "showTitle": false,
     "tableResultSettingsMap": {},
     "title": ""
    }
   },
   "outputs": [],
   "source": [
    "df.createOrReplaceTempView(\"salon_spa\")"
   ]
  },
  {
   "cell_type": "code",
   "execution_count": 0,
   "metadata": {
    "application/vnd.databricks.v1+cell": {
     "cellMetadata": {
      "byteLimit": 2048000,
      "implicitDf": true,
      "rowLimit": 10000
     },
     "inputWidgets": {},
     "nuid": "f2d349e3-7cb7-48df-9ff4-2324791fa96d",
     "showTitle": true,
     "tableResultSettingsMap": {},
     "title": "Services with highest cancellation/no-show rates"
    }
   },
   "outputs": [
    {
     "output_type": "display_data",
     "data": {
      "text/html": [
       "<style scoped>\n",
       "  .table-result-container {\n",
       "    max-height: 300px;\n",
       "    overflow: auto;\n",
       "  }\n",
       "  table, th, td {\n",
       "    border: 1px solid black;\n",
       "    border-collapse: collapse;\n",
       "  }\n",
       "  th, td {\n",
       "    padding: 5px;\n",
       "  }\n",
       "  th {\n",
       "    text-align: left;\n",
       "  }\n",
       "</style><div class='table-result-container'><table class='table-result'><thead style='background-color: white'><tr><th>service_name</th><th>cancellations</th><th>total_bookings</th><th>cancellation_rate</th></tr></thead><tbody><tr><td>Facial</td><td>3</td><td>7</td><td>42.86</td></tr><tr><td>Spa Therapy</td><td>2</td><td>7</td><td>28.57</td></tr><tr><td>Manicure</td><td>1</td><td>6</td><td>16.67</td></tr><tr><td>Hair Coloring</td><td>1</td><td>6</td><td>16.67</td></tr><tr><td>Massage</td><td>1</td><td>7</td><td>14.29</td></tr><tr><td>Pedicure</td><td>1</td><td>7</td><td>14.29</td></tr><tr><td>Haircut</td><td>1</td><td>10</td><td>10.0</td></tr></tbody></table></div>"
      ]
     },
     "metadata": {
      "application/vnd.databricks.v1+output": {
       "addedWidgets": {},
       "aggData": [],
       "aggError": "",
       "aggOverflow": false,
       "aggSchema": [],
       "aggSeriesLimitReached": false,
       "aggType": "",
       "arguments": {},
       "columnCustomDisplayInfos": {},
       "data": [
        [
         "Facial",
         3,
         7,
         42.86
        ],
        [
         "Spa Therapy",
         2,
         7,
         28.57
        ],
        [
         "Manicure",
         1,
         6,
         16.67
        ],
        [
         "Hair Coloring",
         1,
         6,
         16.67
        ],
        [
         "Massage",
         1,
         7,
         14.29
        ],
        [
         "Pedicure",
         1,
         7,
         14.29
        ],
        [
         "Haircut",
         1,
         10,
         10.0
        ]
       ],
       "datasetInfos": [
        {
         "name": "_sqldf",
         "schema": {
          "fields": [
           {
            "metadata": {},
            "name": "service_name",
            "nullable": true,
            "type": "string"
           },
           {
            "metadata": {},
            "name": "cancellations",
            "nullable": true,
            "type": "long"
           },
           {
            "metadata": {},
            "name": "total_bookings",
            "nullable": false,
            "type": "long"
           },
           {
            "metadata": {},
            "name": "cancellation_rate",
            "nullable": true,
            "type": "double"
           }
          ],
          "type": "struct"
         },
         "tableIdentifier": null,
         "typeStr": "pyspark.sql.connect.dataframe.DataFrame"
        }
       ],
       "dbfsResultPath": null,
       "isJsonSchema": true,
       "metadata": {
        "createTempViewForImplicitDf": true,
        "dataframeName": "_sqldf",
        "executionCount": 24
       },
       "overflow": false,
       "plotOptions": {
        "customPlotOptions": {},
        "displayType": "table",
        "pivotAggregation": null,
        "pivotColumns": null,
        "xColumns": null,
        "yColumns": null
       },
       "removedWidgets": [],
       "schema": [
        {
         "metadata": "{}",
         "name": "service_name",
         "type": "\"string\""
        },
        {
         "metadata": "{}",
         "name": "cancellations",
         "type": "\"long\""
        },
        {
         "metadata": "{}",
         "name": "total_bookings",
         "type": "\"long\""
        },
        {
         "metadata": "{}",
         "name": "cancellation_rate",
         "type": "\"double\""
        }
       ],
       "type": "table"
      }
     },
     "output_type": "display_data"
    },
    {
     "output_type": "display_data",
     "data": {
      "text/plain": [
       "Databricks visualization. Run in Databricks to view."
      ]
     },
     "metadata": {
      "application/vnd.databricks.v1.subcommand+json": {
       "baseErrorDetails": null,
       "bindings": {},
       "collapsed": false,
       "command": "%sql WITH q AS (SELECT service_name,\n       SUM(CASE WHEN status IN ('cancelled','no-show') THEN 1 ELSE 0 END) AS cancellations,\n       COUNT(*) AS total_bookings,\n       ROUND(SUM(CASE WHEN status IN ('cancelled','no-show') THEN 1 ELSE 0 END) / COUNT(*) * 100,2) AS cancellation_rate\nFROM salon_spa\nGROUP BY service_name\nORDER BY cancellation_rate DESC) SELECT `service_name`,`total_bookings` FROM q GROUP BY `service_name`,`total_bookings`",
       "commandTitle": "Visualization 1",
       "commandType": "auto",
       "commandVersion": 0,
       "commentThread": [],
       "commentsVisible": false,
       "contentSha256Hex": null,
       "customPlotOptions": {
        "redashChart": [
         {
          "key": "type",
          "value": "CHART"
         },
         {
          "key": "options",
          "value": {
           "alignYAxesAtZero": true,
           "coefficient": 1,
           "columnConfigurationMap": {
            "series": {
             "column": "total_bookings",
             "id": "column_692566b6160"
            },
            "x": {
             "column": "service_name",
             "id": "column_692566b6159"
            },
            "y": []
           },
           "dateTimeFormat": "DD/MM/YYYY HH:mm",
           "direction": {
            "type": "counterclockwise"
           },
           "error_y": {
            "type": "data",
            "visible": true
           },
           "globalSeriesType": "column",
           "legend": {
            "traceorder": "normal"
           },
           "missingValuesAsZero": true,
           "numberFormat": "0,0.[00000]",
           "percentFormat": "0[.]00%",
           "series": {
            "error_y": {
             "type": "data",
             "visible": true
            },
            "stacking": null
           },
           "seriesOptions": {
            "": {
             "color": "#077A9D",
             "type": "column",
             "yAxis": 0
            }
           },
           "showDataLabels": false,
           "sizemode": "diameter",
           "sortX": true,
           "sortY": true,
           "swappedAxes": false,
           "textFormat": "",
           "useAggregationsUi": true,
           "valuesOptions": {},
           "version": 2,
           "xAxis": {
            "labels": {
             "enabled": true
            },
            "type": "-"
           },
           "yAxis": [
            {
             "type": "-"
            },
            {
             "opposite": true,
             "type": "-"
            }
           ]
          }
         }
        ]
       },
       "datasetPreviewNameToCmdIdMap": {},
       "diffDeletes": [],
       "diffInserts": [],
       "displayType": "redashChart",
       "error": null,
       "errorDetails": null,
       "errorSummary": null,
       "errorTraceType": null,
       "finishTime": 0,
       "globalVars": {},
       "guid": "",
       "height": "auto",
       "hideCommandCode": false,
       "hideCommandResult": false,
       "iPythonMetadata": null,
       "inputWidgets": {},
       "isLockedInExamMode": false,
       "latestAssumeRoleInfo": null,
       "latestUser": "a user",
       "latestUserId": null,
       "listResultMetadata": null,
       "metadata": {},
       "nuid": "9b8fabfb-fe41-4c40-a819-479f97fe1a43",
       "origId": 0,
       "parentHierarchy": [],
       "pivotAggregation": null,
       "pivotColumns": null,
       "position": 106.0,
       "resultDbfsErrorMessage": null,
       "resultDbfsStatus": "INLINED_IN_TREE",
       "results": null,
       "showCommandTitle": false,
       "startTime": 0,
       "state": "input",
       "streamStates": {},
       "subcommandOptions": {
        "queryPlan": {
         "groups": [
          {
           "column": "service_name",
           "type": "column"
          },
          {
           "column": "total_bookings",
           "type": "column"
          }
         ],
         "selects": [
          {
           "column": "service_name",
           "type": "column"
          },
          {
           "column": "total_bookings",
           "type": "column"
          }
         ]
        }
       },
       "submitTime": 0,
       "subtype": "tableResultSubCmd.visualization",
       "tableResultIndex": 0,
       "tableResultSettingsMap": {},
       "useConsistentColors": false,
       "version": "CommandV1",
       "width": "auto",
       "workflows": [],
       "xColumns": null,
       "yColumns": null
      }
     },
     "output_type": "display_data"
    }
   ],
   "source": [
    "%sql\n",
    "SELECT service_name,\n",
    "       SUM(CASE WHEN status IN ('cancelled','no-show') THEN 1 ELSE 0 END) AS cancellations,\n",
    "       COUNT(*) AS total_bookings,\n",
    "       ROUND(SUM(CASE WHEN status IN ('cancelled','no-show') THEN 1 ELSE 0 END) / COUNT(*) * 100,2) AS cancellation_rate\n",
    "FROM salon_spa\n",
    "GROUP BY service_name\n",
    "ORDER BY cancellation_rate DESC;"
   ]
  },
  {
   "cell_type": "code",
   "execution_count": 0,
   "metadata": {
    "application/vnd.databricks.v1+cell": {
     "cellMetadata": {
      "byteLimit": 2048000,
      "implicitDf": true,
      "rowLimit": 10000
     },
     "inputWidgets": {},
     "nuid": "3b6a70dc-253b-44dc-af5a-e520d8b43475",
     "showTitle": true,
     "tableResultSettingsMap": {},
     "title": "Peak booking times (by hour, day of week)"
    }
   },
   "outputs": [
    {
     "output_type": "display_data",
     "data": {
      "text/html": [
       "<style scoped>\n",
       "  .table-result-container {\n",
       "    max-height: 300px;\n",
       "    overflow: auto;\n",
       "  }\n",
       "  table, th, td {\n",
       "    border: 1px solid black;\n",
       "    border-collapse: collapse;\n",
       "  }\n",
       "  th, td {\n",
       "    padding: 5px;\n",
       "  }\n",
       "  th {\n",
       "    text-align: left;\n",
       "  }\n",
       "</style><div class='table-result-container'><table class='table-result'><thead style='background-color: white'><tr><th>booking_hour</th><th>day_of_week</th><th>total_bookings</th></tr></thead><tbody><tr><td>13</td><td>Thursday</td><td>2</td></tr><tr><td>12</td><td>Wednesday</td><td>2</td></tr><tr><td>13</td><td>Tuesday</td><td>2</td></tr><tr><td>10</td><td>Tuesday</td><td>2</td></tr><tr><td>15</td><td>Saturday</td><td>2</td></tr><tr><td>15</td><td>Friday</td><td>2</td></tr><tr><td>11</td><td>Friday</td><td>2</td></tr><tr><td>10</td><td>Monday</td><td>2</td></tr><tr><td>18</td><td>Friday</td><td>2</td></tr><tr><td>13</td><td>Wednesday</td><td>2</td></tr><tr><td>16</td><td>Saturday</td><td>1</td></tr><tr><td>17</td><td>Sunday</td><td>1</td></tr><tr><td>17</td><td>Friday</td><td>1</td></tr><tr><td>14</td><td>Saturday</td><td>1</td></tr><tr><td>14</td><td>Wednesday</td><td>1</td></tr><tr><td>14</td><td>Monday</td><td>1</td></tr><tr><td>10</td><td>Saturday</td><td>1</td></tr><tr><td>16</td><td>Tuesday</td><td>1</td></tr><tr><td>12</td><td>Monday</td><td>1</td></tr><tr><td>11</td><td>Thursday</td><td>1</td></tr><tr><td>14</td><td>Thursday</td><td>1</td></tr><tr><td>10</td><td>Wednesday</td><td>1</td></tr><tr><td>12</td><td>Tuesday</td><td>1</td></tr><tr><td>18</td><td>Tuesday</td><td>1</td></tr><tr><td>17</td><td>Wednesday</td><td>1</td></tr><tr><td>15</td><td>Sunday</td><td>1</td></tr><tr><td>14</td><td>Friday</td><td>1</td></tr><tr><td>12</td><td>Sunday</td><td>1</td></tr><tr><td>18</td><td>Sunday</td><td>1</td></tr><tr><td>11</td><td>Saturday</td><td>1</td></tr></tbody></table></div>"
      ]
     },
     "metadata": {
      "application/vnd.databricks.v1+output": {
       "addedWidgets": {},
       "aggData": [],
       "aggError": "",
       "aggOverflow": false,
       "aggSchema": [],
       "aggSeriesLimitReached": false,
       "aggType": "",
       "arguments": {},
       "columnCustomDisplayInfos": {},
       "data": [
        [
         13,
         "Thursday",
         2
        ],
        [
         12,
         "Wednesday",
         2
        ],
        [
         13,
         "Tuesday",
         2
        ],
        [
         10,
         "Tuesday",
         2
        ],
        [
         15,
         "Saturday",
         2
        ],
        [
         15,
         "Friday",
         2
        ],
        [
         11,
         "Friday",
         2
        ],
        [
         10,
         "Monday",
         2
        ],
        [
         18,
         "Friday",
         2
        ],
        [
         13,
         "Wednesday",
         2
        ],
        [
         16,
         "Saturday",
         1
        ],
        [
         17,
         "Sunday",
         1
        ],
        [
         17,
         "Friday",
         1
        ],
        [
         14,
         "Saturday",
         1
        ],
        [
         14,
         "Wednesday",
         1
        ],
        [
         14,
         "Monday",
         1
        ],
        [
         10,
         "Saturday",
         1
        ],
        [
         16,
         "Tuesday",
         1
        ],
        [
         12,
         "Monday",
         1
        ],
        [
         11,
         "Thursday",
         1
        ],
        [
         14,
         "Thursday",
         1
        ],
        [
         10,
         "Wednesday",
         1
        ],
        [
         12,
         "Tuesday",
         1
        ],
        [
         18,
         "Tuesday",
         1
        ],
        [
         17,
         "Wednesday",
         1
        ],
        [
         15,
         "Sunday",
         1
        ],
        [
         14,
         "Friday",
         1
        ],
        [
         12,
         "Sunday",
         1
        ],
        [
         18,
         "Sunday",
         1
        ],
        [
         11,
         "Saturday",
         1
        ]
       ],
       "datasetInfos": [
        {
         "name": "_sqldf",
         "schema": {
          "fields": [
           {
            "metadata": {},
            "name": "booking_hour",
            "nullable": true,
            "type": "integer"
           },
           {
            "metadata": {},
            "name": "day_of_week",
            "nullable": true,
            "type": "string"
           },
           {
            "metadata": {},
            "name": "total_bookings",
            "nullable": false,
            "type": "long"
           }
          ],
          "type": "struct"
         },
         "tableIdentifier": null,
         "typeStr": "pyspark.sql.connect.dataframe.DataFrame"
        }
       ],
       "dbfsResultPath": null,
       "isJsonSchema": true,
       "metadata": {
        "createTempViewForImplicitDf": true,
        "dataframeName": "_sqldf",
        "executionCount": 25
       },
       "overflow": false,
       "plotOptions": {
        "customPlotOptions": {},
        "displayType": "table",
        "pivotAggregation": null,
        "pivotColumns": null,
        "xColumns": null,
        "yColumns": null
       },
       "removedWidgets": [],
       "schema": [
        {
         "metadata": "{}",
         "name": "booking_hour",
         "type": "\"integer\""
        },
        {
         "metadata": "{}",
         "name": "day_of_week",
         "type": "\"string\""
        },
        {
         "metadata": "{}",
         "name": "total_bookings",
         "type": "\"long\""
        }
       ],
       "type": "table"
      }
     },
     "output_type": "display_data"
    },
    {
     "output_type": "display_data",
     "data": {
      "text/plain": [
       "Databricks visualization. Run in Databricks to view."
      ]
     },
     "metadata": {
      "application/vnd.databricks.v1.subcommand+json": {
       "baseErrorDetails": null,
       "bindings": {},
       "collapsed": false,
       "command": "%sql WITH q AS (SELECT hour(booking_time) AS booking_hour,\n       date_format(booking_date, 'EEEE') AS day_of_week,\n       COUNT(*) AS total_bookings\nFROM salon_spa\nWHERE status = 'booked'\nGROUP BY booking_hour, day_of_week\nORDER BY total_bookings DESC) SELECT `booking_hour`,SUM(`total_bookings`) `column_692566b6172`,`day_of_week` FROM q GROUP BY `booking_hour`,`day_of_week`",
       "commandTitle": "Visualization 1",
       "commandType": "auto",
       "commandVersion": 0,
       "commentThread": [],
       "commentsVisible": false,
       "contentSha256Hex": null,
       "customPlotOptions": {
        "redashChart": [
         {
          "key": "type",
          "value": "CHART"
         },
         {
          "key": "options",
          "value": {
           "alignYAxesAtZero": true,
           "coefficient": 1,
           "columnConfigurationMap": {
            "series": {
             "column": "day_of_week",
             "id": "column_692566b6173"
            },
            "x": {
             "column": "booking_hour",
             "id": "column_692566b6171"
            },
            "y": [
             {
              "column": "total_bookings",
              "id": "column_692566b6172",
              "transform": "SUM"
             }
            ]
           },
           "dateTimeFormat": "DD/MM/YYYY HH:mm",
           "direction": {
            "type": "counterclockwise"
           },
           "error_y": {
            "type": "data",
            "visible": true
           },
           "globalSeriesType": "pie",
           "isAggregationOn": true,
           "legend": {
            "traceorder": "normal"
           },
           "missingValuesAsZero": true,
           "numberFormat": "0,0.[00000]",
           "percentFormat": "0[.]00%",
           "series": {
            "error_y": {
             "type": "data",
             "visible": true
            },
            "stacking": null
           },
           "seriesOptions": {
            "column_692566b6172": {
             "name": "total_bookings",
             "type": "pie",
             "yAxis": 0
            }
           },
           "showDataLabels": true,
           "sizemode": "diameter",
           "sortX": true,
           "sortY": true,
           "swappedAxes": false,
           "textFormat": "",
           "useAggregationsUi": true,
           "valuesOptions": {},
           "version": 2,
           "xAxis": {
            "labels": {
             "enabled": true
            },
            "type": "-"
           },
           "yAxis": [
            {
             "type": "-"
            },
            {
             "opposite": true,
             "type": "-"
            }
           ]
          }
         }
        ]
       },
       "datasetPreviewNameToCmdIdMap": {},
       "diffDeletes": [],
       "diffInserts": [],
       "displayType": "redashChart",
       "error": null,
       "errorDetails": null,
       "errorSummary": null,
       "errorTraceType": null,
       "finishTime": 0,
       "globalVars": {},
       "guid": "",
       "height": "auto",
       "hideCommandCode": false,
       "hideCommandResult": false,
       "iPythonMetadata": null,
       "inputWidgets": {},
       "isLockedInExamMode": false,
       "latestAssumeRoleInfo": null,
       "latestUser": "a user",
       "latestUserId": null,
       "listResultMetadata": null,
       "metadata": {},
       "nuid": "8b6b2211-cffe-45a8-bd2d-dcf575e4a259",
       "origId": 0,
       "parentHierarchy": [],
       "pivotAggregation": null,
       "pivotColumns": null,
       "position": 107.0,
       "resultDbfsErrorMessage": null,
       "resultDbfsStatus": "INLINED_IN_TREE",
       "results": null,
       "showCommandTitle": false,
       "startTime": 0,
       "state": "input",
       "streamStates": {},
       "subcommandOptions": {
        "queryPlan": {
         "groups": [
          {
           "column": "booking_hour",
           "type": "column"
          },
          {
           "column": "day_of_week",
           "type": "column"
          }
         ],
         "selects": [
          {
           "column": "booking_hour",
           "type": "column"
          },
          {
           "alias": "column_692566b6172",
           "args": [
            {
             "column": "total_bookings",
             "type": "column"
            }
           ],
           "function": "SUM",
           "type": "function"
          },
          {
           "column": "day_of_week",
           "type": "column"
          }
         ]
        }
       },
       "submitTime": 0,
       "subtype": "tableResultSubCmd.visualization",
       "tableResultIndex": 0,
       "tableResultSettingsMap": {},
       "useConsistentColors": false,
       "version": "CommandV1",
       "width": "auto",
       "workflows": [],
       "xColumns": null,
       "yColumns": null
      }
     },
     "output_type": "display_data"
    }
   ],
   "source": [
    "%sql\n",
    "SELECT hour(booking_time) AS booking_hour,\n",
    "       date_format(booking_date, 'EEEE') AS day_of_week,\n",
    "       COUNT(*) AS total_bookings\n",
    "FROM salon_spa\n",
    "WHERE status = 'booked'\n",
    "GROUP BY booking_hour, day_of_week\n",
    "ORDER BY total_bookings DESC;"
   ]
  },
  {
   "cell_type": "code",
   "execution_count": 0,
   "metadata": {
    "application/vnd.databricks.v1+cell": {
     "cellMetadata": {
      "byteLimit": 2048000,
      "implicitDf": true,
      "rowLimit": 10000
     },
     "inputWidgets": {},
     "nuid": "9379634a-27b6-4673-958a-041838d29ff1",
     "showTitle": true,
     "tableResultSettingsMap": {},
     "title": "Seasonal/monthly revenue trends"
    }
   },
   "outputs": [
    {
     "output_type": "display_data",
     "data": {
      "text/html": [
       "<style scoped>\n",
       "  .table-result-container {\n",
       "    max-height: 300px;\n",
       "    overflow: auto;\n",
       "  }\n",
       "  table, th, td {\n",
       "    border: 1px solid black;\n",
       "    border-collapse: collapse;\n",
       "  }\n",
       "  th, td {\n",
       "    padding: 5px;\n",
       "  }\n",
       "  th {\n",
       "    text-align: left;\n",
       "  }\n",
       "</style><div class='table-result-container'><table class='table-result'><thead style='background-color: white'><tr><th>month</th><th>city</th><th>service_name</th><th>total_revenue</th></tr></thead><tbody><tr><td>2025-01</td><td>Chennai</td><td>Spa Therapy</td><td>4000</td></tr><tr><td>2025-01</td><td>Mumbai</td><td>Haircut</td><td>500</td></tr><tr><td>2025-02</td><td>Mumbai</td><td>Hair Coloring</td><td>3500</td></tr><tr><td>2025-02</td><td>Delhi</td><td>Hair Coloring</td><td>3500</td></tr><tr><td>2025-02</td><td>Delhi</td><td>Massage</td><td>2000</td></tr><tr><td>2025-02</td><td>Hyderabad</td><td>Massage</td><td>2000</td></tr><tr><td>2025-03</td><td>Chennai</td><td>Facial</td><td>1200</td></tr><tr><td>2025-03</td><td>Chennai</td><td>Haircut</td><td>500</td></tr><tr><td>2025-03</td><td>Bangalore</td><td>Pedicure</td><td>800</td></tr><tr><td>2025-03</td><td>Mumbai</td><td>Facial</td><td>2400</td></tr><tr><td>2025-04</td><td>Delhi</td><td>Manicure</td><td>700</td></tr><tr><td>2025-04</td><td>Delhi</td><td>Pedicure</td><td>800</td></tr><tr><td>2025-04</td><td>Hyderabad</td><td>Hair Coloring</td><td>3500</td></tr><tr><td>2025-04</td><td>Hyderabad</td><td>Pedicure</td><td>800</td></tr><tr><td>2025-04</td><td>Chennai</td><td>Haircut</td><td>500</td></tr><tr><td>2025-05</td><td>Bangalore</td><td>Massage</td><td>2000</td></tr><tr><td>2025-05</td><td>Mumbai</td><td>Massage</td><td>2000</td></tr><tr><td>2025-05</td><td>Chennai</td><td>Hair Coloring</td><td>3500</td></tr><tr><td>2025-05</td><td>Hyderabad</td><td>Haircut</td><td>1000</td></tr><tr><td>2025-05</td><td>Bangalore</td><td>Spa Therapy</td><td>4000</td></tr><tr><td>2025-05</td><td>Chennai</td><td>Haircut</td><td>500</td></tr><tr><td>2025-05</td><td>Hyderabad</td><td>Massage</td><td>2000</td></tr><tr><td>2025-06</td><td>Mumbai</td><td>Spa Therapy</td><td>4000</td></tr><tr><td>2025-06</td><td>Chennai</td><td>Massage</td><td>2000</td></tr><tr><td>2025-06</td><td>Bangalore</td><td>Manicure</td><td>1400</td></tr><tr><td>2025-06</td><td>Hyderabad</td><td>Haircut</td><td>500</td></tr><tr><td>2025-06</td><td>Mumbai</td><td>Facial</td><td>1200</td></tr><tr><td>2025-06</td><td>Chennai</td><td>Manicure</td><td>700</td></tr><tr><td>2025-07</td><td>Delhi</td><td>Hair Coloring</td><td>3500</td></tr><tr><td>2025-07</td><td>Mumbai</td><td>Pedicure</td><td>800</td></tr><tr><td>2025-07</td><td>Delhi</td><td>Haircut</td><td>500</td></tr><tr><td>2025-07</td><td>Delhi</td><td>Manicure</td><td>700</td></tr><tr><td>2025-07</td><td>Bangalore</td><td>Pedicure</td><td>1600</td></tr><tr><td>2025-08</td><td>Hyderabad</td><td>Haircut</td><td>500</td></tr><tr><td>2025-08</td><td>Hyderabad</td><td>Spa Therapy</td><td>4000</td></tr><tr><td>2025-08</td><td>Delhi</td><td>Spa Therapy</td><td>4000</td></tr></tbody></table></div>"
      ]
     },
     "metadata": {
      "application/vnd.databricks.v1+output": {
       "addedWidgets": {},
       "aggData": [],
       "aggError": "",
       "aggOverflow": false,
       "aggSchema": [],
       "aggSeriesLimitReached": false,
       "aggType": "",
       "arguments": {},
       "columnCustomDisplayInfos": {},
       "data": [
        [
         "2025-01",
         "Chennai",
         "Spa Therapy",
         4000
        ],
        [
         "2025-01",
         "Mumbai",
         "Haircut",
         500
        ],
        [
         "2025-02",
         "Mumbai",
         "Hair Coloring",
         3500
        ],
        [
         "2025-02",
         "Delhi",
         "Hair Coloring",
         3500
        ],
        [
         "2025-02",
         "Delhi",
         "Massage",
         2000
        ],
        [
         "2025-02",
         "Hyderabad",
         "Massage",
         2000
        ],
        [
         "2025-03",
         "Chennai",
         "Facial",
         1200
        ],
        [
         "2025-03",
         "Chennai",
         "Haircut",
         500
        ],
        [
         "2025-03",
         "Bangalore",
         "Pedicure",
         800
        ],
        [
         "2025-03",
         "Mumbai",
         "Facial",
         2400
        ],
        [
         "2025-04",
         "Delhi",
         "Manicure",
         700
        ],
        [
         "2025-04",
         "Delhi",
         "Pedicure",
         800
        ],
        [
         "2025-04",
         "Hyderabad",
         "Hair Coloring",
         3500
        ],
        [
         "2025-04",
         "Hyderabad",
         "Pedicure",
         800
        ],
        [
         "2025-04",
         "Chennai",
         "Haircut",
         500
        ],
        [
         "2025-05",
         "Bangalore",
         "Massage",
         2000
        ],
        [
         "2025-05",
         "Mumbai",
         "Massage",
         2000
        ],
        [
         "2025-05",
         "Chennai",
         "Hair Coloring",
         3500
        ],
        [
         "2025-05",
         "Hyderabad",
         "Haircut",
         1000
        ],
        [
         "2025-05",
         "Bangalore",
         "Spa Therapy",
         4000
        ],
        [
         "2025-05",
         "Chennai",
         "Haircut",
         500
        ],
        [
         "2025-05",
         "Hyderabad",
         "Massage",
         2000
        ],
        [
         "2025-06",
         "Mumbai",
         "Spa Therapy",
         4000
        ],
        [
         "2025-06",
         "Chennai",
         "Massage",
         2000
        ],
        [
         "2025-06",
         "Bangalore",
         "Manicure",
         1400
        ],
        [
         "2025-06",
         "Hyderabad",
         "Haircut",
         500
        ],
        [
         "2025-06",
         "Mumbai",
         "Facial",
         1200
        ],
        [
         "2025-06",
         "Chennai",
         "Manicure",
         700
        ],
        [
         "2025-07",
         "Delhi",
         "Hair Coloring",
         3500
        ],
        [
         "2025-07",
         "Mumbai",
         "Pedicure",
         800
        ],
        [
         "2025-07",
         "Delhi",
         "Haircut",
         500
        ],
        [
         "2025-07",
         "Delhi",
         "Manicure",
         700
        ],
        [
         "2025-07",
         "Bangalore",
         "Pedicure",
         1600
        ],
        [
         "2025-08",
         "Hyderabad",
         "Haircut",
         500
        ],
        [
         "2025-08",
         "Hyderabad",
         "Spa Therapy",
         4000
        ],
        [
         "2025-08",
         "Delhi",
         "Spa Therapy",
         4000
        ]
       ],
       "datasetInfos": [
        {
         "name": "_sqldf",
         "schema": {
          "fields": [
           {
            "metadata": {},
            "name": "month",
            "nullable": true,
            "type": "string"
           },
           {
            "metadata": {},
            "name": "city",
            "nullable": true,
            "type": "string"
           },
           {
            "metadata": {},
            "name": "service_name",
            "nullable": true,
            "type": "string"
           },
           {
            "metadata": {},
            "name": "total_revenue",
            "nullable": true,
            "type": "long"
           }
          ],
          "type": "struct"
         },
         "tableIdentifier": null,
         "typeStr": "pyspark.sql.connect.dataframe.DataFrame"
        }
       ],
       "dbfsResultPath": null,
       "isJsonSchema": true,
       "metadata": {
        "createTempViewForImplicitDf": true,
        "dataframeName": "_sqldf",
        "executionCount": 27
       },
       "overflow": false,
       "plotOptions": {
        "customPlotOptions": {},
        "displayType": "table",
        "pivotAggregation": null,
        "pivotColumns": null,
        "xColumns": null,
        "yColumns": null
       },
       "removedWidgets": [],
       "schema": [
        {
         "metadata": "{}",
         "name": "month",
         "type": "\"string\""
        },
        {
         "metadata": "{}",
         "name": "city",
         "type": "\"string\""
        },
        {
         "metadata": "{}",
         "name": "service_name",
         "type": "\"string\""
        },
        {
         "metadata": "{}",
         "name": "total_revenue",
         "type": "\"long\""
        }
       ],
       "type": "table"
      }
     },
     "output_type": "display_data"
    },
    {
     "output_type": "display_data",
     "data": {
      "text/plain": [
       "Databricks visualization. Run in Databricks to view."
      ]
     },
     "metadata": {
      "application/vnd.databricks.v1.subcommand+json": {
       "baseErrorDetails": null,
       "bindings": {},
       "collapsed": false,
       "command": "%sql WITH q AS (SELECT date_format(booking_date, 'yyyy-MM') AS month,\n       city,\n       service_name,\n       SUM(amount_spent) AS total_revenue\nFROM salon_spa\nWHERE status = 'booked'\nGROUP BY date_format(booking_date, 'yyyy-MM'), city, service_name\nORDER BY month) SELECT `service_name`,`city` FROM q GROUP BY `city`,`service_name`",
       "commandTitle": "Visualization 1",
       "commandType": "auto",
       "commandVersion": 0,
       "commentThread": [],
       "commentsVisible": false,
       "contentSha256Hex": null,
       "customPlotOptions": {
        "redashChart": [
         {
          "key": "type",
          "value": "CHART"
         },
         {
          "key": "options",
          "value": {
           "alignYAxesAtZero": true,
           "coefficient": 1,
           "columnConfigurationMap": {
            "series": {
             "column": "city",
             "id": "column_692566b6183"
            },
            "x": {
             "column": "service_name",
             "id": "column_692566b6187"
            },
            "y": []
           },
           "dateTimeFormat": "DD/MM/YYYY HH:mm",
           "direction": {
            "type": "counterclockwise"
           },
           "error_y": {
            "type": "data",
            "visible": true
           },
           "globalSeriesType": "column",
           "legend": {
            "traceorder": "normal"
           },
           "missingValuesAsZero": true,
           "numberFormat": "0,0.[00000]",
           "percentFormat": "0[.]00%",
           "series": {
            "error_y": {
             "type": "data",
             "visible": true
            },
            "stacking": null
           },
           "seriesOptions": {},
           "showDataLabels": false,
           "sizemode": "diameter",
           "sortX": true,
           "sortY": true,
           "swappedAxes": false,
           "textFormat": "",
           "useAggregationsUi": true,
           "valuesOptions": {},
           "version": 2,
           "xAxis": {
            "labels": {
             "enabled": true
            },
            "type": "-"
           },
           "yAxis": [
            {
             "type": "-"
            },
            {
             "opposite": true,
             "type": "-"
            }
           ]
          }
         }
        ]
       },
       "datasetPreviewNameToCmdIdMap": {},
       "diffDeletes": [],
       "diffInserts": [],
       "displayType": "redashChart",
       "error": null,
       "errorDetails": null,
       "errorSummary": null,
       "errorTraceType": null,
       "finishTime": 0,
       "globalVars": {},
       "guid": "",
       "height": "auto",
       "hideCommandCode": false,
       "hideCommandResult": false,
       "iPythonMetadata": null,
       "inputWidgets": {},
       "isLockedInExamMode": false,
       "latestAssumeRoleInfo": null,
       "latestUser": "a user",
       "latestUserId": null,
       "listResultMetadata": null,
       "metadata": {},
       "nuid": "4b6f9805-7186-48c5-b2c0-8948fddfc3b6",
       "origId": 0,
       "parentHierarchy": [],
       "pivotAggregation": null,
       "pivotColumns": null,
       "position": 108.0,
       "resultDbfsErrorMessage": null,
       "resultDbfsStatus": "INLINED_IN_TREE",
       "results": null,
       "showCommandTitle": false,
       "startTime": 0,
       "state": "input",
       "streamStates": {},
       "subcommandOptions": {
        "queryPlan": {
         "groups": [
          {
           "column": "service_name",
           "type": "column"
          },
          {
           "column": "city",
           "type": "column"
          }
         ],
         "selects": [
          {
           "column": "service_name",
           "type": "column"
          },
          {
           "column": "city",
           "type": "column"
          }
         ]
        }
       },
       "submitTime": 0,
       "subtype": "tableResultSubCmd.visualization",
       "tableResultIndex": 0,
       "tableResultSettingsMap": {},
       "useConsistentColors": false,
       "version": "CommandV1",
       "width": "auto",
       "workflows": [],
       "xColumns": null,
       "yColumns": null
      }
     },
     "output_type": "display_data"
    }
   ],
   "source": [
    "%sql\n",
    "SELECT date_format(booking_date, 'yyyy-MM') AS month,\n",
    "       city,\n",
    "       service_name,\n",
    "       SUM(amount_spent) AS total_revenue\n",
    "FROM salon_spa\n",
    "WHERE status = 'booked'\n",
    "GROUP BY date_format(booking_date, 'yyyy-MM'), city, service_name\n",
    "ORDER BY month;"
   ]
  }
 ],
 "metadata": {
  "application/vnd.databricks.v1+notebook": {
   "computePreferences": null,
   "dashboards": [],
   "environmentMetadata": {
    "base_environment": "",
    "environment_version": "3"
   },
   "inputWidgetPreferences": null,
   "language": "python",
   "notebookMetadata": {
    "mostRecentlyExecutedCommandWithImplicitDF": {
     "commandId": 6225022366873630,
     "dataframes": [
      "_sqldf"
     ]
    },
    "pythonIndentUnit": 4
   },
   "notebookName": "24MBMA03 Soha Ahmed - Internal 1.1",
   "widgets": {}
  },
  "language_info": {
   "name": "python"
  }
 },
 "nbformat": 4,
 "nbformat_minor": 0
}